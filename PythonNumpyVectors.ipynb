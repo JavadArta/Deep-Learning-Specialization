{
 "cells": [
  {
   "cell_type": "code",
   "execution_count": 2,
   "id": "01a0074d-74f6-475a-8120-e595aafea0b3",
   "metadata": {},
   "outputs": [],
   "source": [
    "import numpy as np\n",
    "\n",
    "a = np.random.randn(5)"
   ]
  },
  {
   "cell_type": "code",
   "execution_count": 3,
   "id": "f50e1509-0b65-4ba1-aa56-8adc52515851",
   "metadata": {},
   "outputs": [
    {
     "name": "stdout",
     "output_type": "stream",
     "text": [
      "[ 0.55026189  0.23128546 -2.96220812  1.36127096 -0.17492952]\n"
     ]
    }
   ],
   "source": [
    "print(a)"
   ]
  },
  {
   "cell_type": "code",
   "execution_count": 4,
   "id": "8952562e-ef39-4fc3-b0da-fb2c316fc56d",
   "metadata": {},
   "outputs": [
    {
     "name": "stdout",
     "output_type": "stream",
     "text": [
      "(5,)\n"
     ]
    }
   ],
   "source": [
    "print(a.shape)"
   ]
  },
  {
   "cell_type": "code",
   "execution_count": 5,
   "id": "73dd47ad-6969-4cdf-b2f5-ac06ae12c7c3",
   "metadata": {},
   "outputs": [
    {
     "name": "stdout",
     "output_type": "stream",
     "text": [
      "[ 0.55026189  0.23128546 -2.96220812  1.36127096 -0.17492952]\n"
     ]
    }
   ],
   "source": [
    "print(a.T)"
   ]
  },
  {
   "cell_type": "code",
   "execution_count": 6,
   "id": "9f284463-f462-4cee-b36d-cad5a1f6485d",
   "metadata": {},
   "outputs": [
    {
     "name": "stdout",
     "output_type": "stream",
     "text": [
      "11.014617043037582\n"
     ]
    }
   ],
   "source": [
    "print(np.dot(a,a.T))"
   ]
  },
  {
   "cell_type": "code",
   "execution_count": 7,
   "id": "26d35abf-f9c8-4f8b-8e23-2c172c8d1425",
   "metadata": {},
   "outputs": [
    {
     "name": "stdout",
     "output_type": "stream",
     "text": [
      "[[-1.34576501]\n",
      " [ 0.79639687]\n",
      " [-0.50203829]\n",
      " [ 0.90216079]\n",
      " [-1.4192333 ]]\n"
     ]
    }
   ],
   "source": [
    "a = np.random.randn(5,1)\n",
    "print(a)"
   ]
  },
  {
   "cell_type": "code",
   "execution_count": 8,
   "id": "281e5ad8-bb6d-43f8-91b7-00d65af5bf99",
   "metadata": {},
   "outputs": [
    {
     "name": "stdout",
     "output_type": "stream",
     "text": [
      "[[ 1.81108347 -1.07176305  0.67562556 -1.21409642  1.90995452]\n",
      " [-1.07176305  0.63424798 -0.39982172  0.71847803 -1.13027297]\n",
      " [ 0.67562556 -0.39982172  0.25204244 -0.45291925  0.71250945]\n",
      " [-1.21409642  0.71847803 -0.45291925  0.81389408 -1.28037663]\n",
      " [ 1.90995452 -1.13027297  0.71250945 -1.28037663  2.01422317]]\n"
     ]
    }
   ],
   "source": [
    "print(np.dot(a,a.T))"
   ]
  }
 ],
 "metadata": {
  "kernelspec": {
   "display_name": "Python 3 (ipykernel)",
   "language": "python",
   "name": "python3"
  },
  "language_info": {
   "codemirror_mode": {
    "name": "ipython",
    "version": 3
   },
   "file_extension": ".py",
   "mimetype": "text/x-python",
   "name": "python",
   "nbconvert_exporter": "python",
   "pygments_lexer": "ipython3",
   "version": "3.10.13"
  }
 },
 "nbformat": 4,
 "nbformat_minor": 5
}
